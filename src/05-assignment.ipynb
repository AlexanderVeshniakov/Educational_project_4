{
 "cells": [
  {
   "attachments": {},
   "cell_type": "markdown",
   "metadata": {},
   "source": [
    "# Загрузка данных"
   ]
  },
  {
   "cell_type": "code",
   "execution_count": 1,
   "metadata": {},
   "outputs": [],
   "source": [
    "import zipfile\n",
    "import pandas as pd"
   ]
  },
  {
   "cell_type": "code",
   "execution_count": 2,
   "metadata": {},
   "outputs": [],
   "source": [
    "with zipfile.ZipFile('../datasets/client_info.csv.zip', 'r') as zip_ref:\n",
    "    zip_ref.extractall('../datasets')"
   ]
  },
  {
   "cell_type": "code",
   "execution_count": null,
   "metadata": {
    "id": "dxhM1MLjPc31"
   },
   "outputs": [],
   "source": [
    "df = pd.read_csv('../datasets/client_info.csv')\n",
    "df.head(5)"
   ]
  },
  {
   "attachments": {},
   "cell_type": "markdown",
   "metadata": {},
   "source": [
    "# 1\n",
    "Назначаем  `ID` индексом таблицы."
   ]
  },
  {
   "cell_type": "code",
   "execution_count": null,
   "metadata": {},
   "outputs": [],
   "source": [
    "df = df.set_index('ID')\n",
    "df.head(5)"
   ]
  },
  {
   "attachments": {},
   "cell_type": "markdown",
   "metadata": {},
   "source": [
    "## 2\n",
    "- Сохраняем признаки в переменную X.\n",
    "- Сохраняем целевую переменную в Y."
   ]
  },
  {
   "cell_type": "code",
   "execution_count": null,
   "metadata": {},
   "outputs": [],
   "source": [
    "y = df[['TARGET']] #  целевая переменная\n",
    "#loc используется для индексации и выбора данных по меткам (лейблам) строк и столбцов.\n",
    "x = df.loc[:, df.columns != 'TARGET'] # признаки\n",
    "y.shape , x.shape "
   ]
  },
  {
   "attachments": {},
   "cell_type": "markdown",
   "metadata": {},
   "source": [
    "## 3\n",
    "Сохраняем категоральные и чмсловые признаки"
   ]
  },
  {
   "cell_type": "code",
   "execution_count": null,
   "metadata": {},
   "outputs": [],
   "source": [
    "# Посомтрел какие типы данных входят\n",
    "\n",
    "# Применил функцию select_dtypes (include = включить, exclude = исключить)\n",
    "X_cat = x.select_dtypes(include=['object', 'category'])\n",
    "X_num = x.select_dtypes(exclude=['object', 'category']) \n",
    "\n",
    "X_cat.shape [1], X_num.shape[1]"
   ]
  },
  {
   "attachments": {},
   "cell_type": "markdown",
   "metadata": {},
   "source": [
    "## 4\n",
    "- Предобрабатываем количественные переменные. \n",
    "- Проведим стандартизацию для признаков X_num."
   ]
  },
  {
   "cell_type": "code",
   "execution_count": null,
   "metadata": {},
   "outputs": [],
   "source": [
    "from sklearn.preprocessing import StandardScaler\n",
    "\n",
    "# Создаем экземпляр класса StandardScaler для стандартизации данных\n",
    "scaler = StandardScaler()\n",
    "\n",
    "#делаем стандартизацию наших признаков\n",
    "# Применяем метод fit_transform для стандартизации числовых признаков X_num\n",
    "# fit_transform выполняет обучение на данных и преобразование данных\n",
    "X_num_scal = scaler.fit_transform(X_num) \n",
    "\n",
    "# Преобразуем полученный массив X_num_scal в объект DataFrame с исходными названиями столбцов\n",
    "X_num_scal = pd.DataFrame (X_num_scal, columns = X_num.columns)\n",
    "\n",
    "\n",
    "X_num_scal_standart = round(X_num_scal.std(),2) \n",
    "X_num_scal_mean = round(X_num_scal.mean(), 2)\n",
    "\n",
    "Standar_and_mean = pd.concat([X_num_scal_standart, X_num_scal_mean], axis= 1 )\n",
    "Standar_and_mean.columns = ['Standart', 'Mean'] \n",
    "Standar_and_mean\n"
   ]
  },
  {
   "attachments": {},
   "cell_type": "markdown",
   "metadata": {},
   "source": [
    "## 5\n",
    "Трансформируем категориальные признаки. "
   ]
  },
  {
   "cell_type": "code",
   "execution_count": null,
   "metadata": {},
   "outputs": [],
   "source": [
    "from sklearn.preprocessing import OneHotEncoder \n",
    "\n",
    "# Удаляем столбец 'CLNT_JOB_POSITION' из DataFrame X_cat\n",
    "X_cat = X_cat.drop(columns='CLNT_JOB_POSITION')\n",
    "\n",
    "# Создаем экземпляр объекта OneHotEncoder и преобразуем X_cat в разреженную матрицу\n",
    "encoder = OneHotEncoder()\n",
    "X_cat_ohe = encoder.fit_transform(X_cat).toarray()\n",
    "\n",
    "# Создаем DataFrame из массива X_cat_ohe с именами столбцов, полученными от OneHotEncoder\n",
    "X_cat_ohe = pd.DataFrame(X_cat_ohe, columns=encoder.get_feature_names_out())\n",
    "\n",
    "# Возвращаем количество столбцов в X_cat_ohe\n",
    "X_cat_ohe.shape[1]"
   ]
  },
  {
   "attachments": {},
   "cell_type": "markdown",
   "metadata": {},
   "source": [
    "## 6\n",
    "Разделяем данные на обучающий и тестовый наборы.\n"
   ]
  },
  {
   "cell_type": "code",
   "execution_count": null,
   "metadata": {},
   "outputs": [],
   "source": [
    "from sklearn.model_selection import train_test_split\n",
    "\n",
    "X_ready = pd.concat ([X_num_scal, X_cat_ohe],axis= 1 )\n",
    "X_ready.to_csv('../datasets/data_prepared.csv')\n",
    "X_train, X_test, y_train, y_test = train_test_split( X_ready, y, test_size=0.2, random_state=21)\n",
    "\n",
    "# Разделяем данные на обучающий и тестовый наборы, где:\n",
    "# X_ready - матрица признаков\n",
    "# y - целевая переменная\n",
    "# test_size=0.2 - указывает, что 20% данных будут использованы для тестирования\n",
    "# random_state=21 - установка случайного состояния для воспроизводимости результатов\n",
    "\n",
    "X_train.shape\n"
   ]
  },
  {
   "attachments": {},
   "cell_type": "markdown",
   "metadata": {},
   "source": [
    "## 7 \n",
    "Обучаем логистическую регрессию "
   ]
  },
  {
   "cell_type": "code",
   "execution_count": null,
   "metadata": {},
   "outputs": [],
   "source": [
    "from sklearn.linear_model import LogisticRegression\n",
    "from sklearn.metrics import accuracy_score\n",
    "\n",
    "# Создаем экземпляр модели LogisticRegression с определенными параметрами\n",
    "# solver='liblinear' - выбор метода решения задачи оптимизации\n",
    "# fit_intercept=False - отключение подбора свободного члена (intercept)\n",
    "# penalty='l1' - применение L1-регуляризации\n",
    "# random_state=21 - установка случайного состояния для воспроизводимости результатов\n",
    "\n",
    "# Обучаем модель на обучающих данных X_train и y_train\n",
    "# X_train.values - преобразование данных X_train в формат массива значений\n",
    "# y_train - целевая переменная для обучения модели\n",
    "\n",
    "# Применяем обученную модель для предсказания значений целевой переменной на тестовых данных X_test\n",
    "# X_test.values - преобразование данных X_test в формат массива значений\n",
    "\n",
    "mod = LogisticRegression (solver='liblinear', \n",
    "                         fit_intercept=False, \n",
    "                         penalty='l1', \n",
    "                         random_state=21).fit(X_train.values, y_train)\n",
    "\n",
    "\n",
    "# Вычисляем точность (accuracy) предсказания модели на тестовых данных\n",
    "# Сравниваем предсказанные значения y_pred с истинными значениями y_test\n",
    "\n",
    "y_pred = mod.predict(X_test.values)\n",
    "target = accuracy_score(y_test, y_pred)\n",
    "target"
   ]
  },
  {
   "attachments": {},
   "cell_type": "markdown",
   "metadata": {},
   "source": [
    "## 8\n",
    "Считаем процент клиентов в тестовой выборке, у которых индикатор оттока равен 0."
   ]
  },
  {
   "cell_type": "code",
   "execution_count": null,
   "metadata": {},
   "outputs": [],
   "source": [
    "import numpy as np\n",
    "\n",
    "percent_client = np.mean(y_test == 0) * 100\n",
    "percent_client"
   ]
  },
  {
   "attachments": {},
   "cell_type": "markdown",
   "metadata": {},
   "source": [
    "## 9\n",
    "Строим график, на котором видны топ-10 самых важных факторов по мнению модели в абсолютном значении."
   ]
  },
  {
   "cell_type": "code",
   "execution_count": null,
   "metadata": {},
   "outputs": [],
   "source": [
    "import matplotlib.pyplot as plt\n",
    "import seaborn as sns\n",
    "\n",
    "# извлекает коэффициенты модели из атрибута coef_ и сохраняет их в переменную \n",
    "coef_model = mod.coef_[0]\n",
    "# преобразует массив c в объект NumPy  \n",
    "array_model = np.array(coef_model)\n",
    "# вычисляет абсолютные значения всех элементов массива с помощью функции np.abs \n",
    "absolute = np.abs (array_model)\n",
    "\n",
    "total = pd.Series(absolute, index = X_ready.columns)\n",
    "total_sorted = total.sort_values(ascending=False)\n",
    "\n",
    "sns.barplot(x=total_sorted.values[:10], y=total_sorted.index[:10], palette='Set2')\n",
    "plt.title('Топ 10')\n",
    "plt.xlabel('Значения коэфицентов')\n",
    "plt.ylabel('Факторы')\n",
    "\n",
    "plt.show()"
   ]
  }
 ],
 "metadata": {
  "colab": {
   "collapsed_sections": [
    "KPtcdkJ3Pc4I"
   ],
   "name": "d02_task.ipynb",
   "provenance": []
  },
  "kernelspec": {
   "display_name": "Python 3 (ipykernel)",
   "language": "python",
   "name": "python3"
  },
  "language_info": {
   "codemirror_mode": {
    "name": "ipython",
    "version": 3
   },
   "file_extension": ".py",
   "mimetype": "text/x-python",
   "name": "python",
   "nbconvert_exporter": "python",
   "pygments_lexer": "ipython3",
   "version": "3.10.11"
  }
 },
 "nbformat": 4,
 "nbformat_minor": 4
}
